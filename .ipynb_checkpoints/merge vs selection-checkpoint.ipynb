{
 "cells": [
  {
   "cell_type": "markdown",
   "id": "184b2719",
   "metadata": {},
   "source": [
    "<div align=\"center\">\n",
    "\n",
    "# Selection Sort e Merge Sort\n",
    "\n",
    "### Confronto tra i due algoritmi di ordinamento\n",
    "\n",
    "\n",
    "<small>*8 Febbraio 2024*</small><br/>\n",
    "<small>Laboratorio di Algoritmi - *Niccolò Caselli*</small>  \n",
    "\n",
    "</div>"
   ]
  },
  {
   "cell_type": "markdown",
   "id": "6672c336",
   "metadata": {},
   "source": [
    "Importiamo le librerie necessarie"
   ]
  },
  {
   "cell_type": "code",
   "execution_count": null,
   "id": "8f08e04e",
   "metadata": {},
   "outputs": [],
   "source": [
    "import random\n",
    "import numpy as np\n",
    "from timeit import default_timer as timer\n",
    "import matplotlib.pyplot as plt\n",
    "import math"
   ]
  },
  {
   "cell_type": "markdown",
   "id": "a6c111cd",
   "metadata": {},
   "source": [
    "Configurazione test\n",
    "\n",
    "TEST_MAX_DIMENSION: Dimensione massima della lista su cui eseguire i test di ordinamento <br/>\n",
    "TEST_STEP: Differenza di dimensione delle liste tra ogni iterazione\n"
   ]
  },
  {
   "cell_type": "code",
   "execution_count": 127,
   "id": "01e29c6e",
   "metadata": {},
   "outputs": [],
   "source": [
    "# TEST_MAX_DIMENSION = 3000000\n",
    "# TEST_STEP = 50000\n",
    "\n",
    "TEST_MAX_DIMENSION = 300000\n",
    "TEST_STEP = 5000"
   ]
  },
  {
   "cell_type": "markdown",
   "id": "90eb6b17",
   "metadata": {},
   "source": [
    "Funzione che genera una lista casuale di dimensione n"
   ]
  },
  {
   "cell_type": "code",
   "execution_count": 128,
   "id": "a2d6099e",
   "metadata": {},
   "outputs": [
    {
     "name": "stdout",
     "output_type": "stream",
     "text": [
      "[1 8 5 7 9 4 6 0 3 2]\n"
     ]
    }
   ],
   "source": [
    "def random_list(n):\n",
    "   A=np.arange(n)\n",
    "   random.shuffle(A)\n",
    "   return A\n",
    "\n",
    "# Testiamo la funzione\n",
    "A = random_list(10)\n",
    "print(A)"
   ]
  },
  {
   "cell_type": "markdown",
   "id": "51da9e96",
   "metadata": {},
   "source": [
    "Funzione ausiliaria per verificare che un algoritmo di ordinamento sia corretto"
   ]
  },
  {
   "cell_type": "code",
   "execution_count": 129,
   "id": "45c5b3ea",
   "metadata": {},
   "outputs": [],
   "source": [
    "def is_sorted(A):\n",
    "    for i in range(1,len(A)):\n",
    "        if A[i-1] > A[i]:\n",
    "            return False\n",
    "    return True\n",
    "\n",
    "\n",
    "def is_sorting_algorithm(algorithm_function):\n",
    "    is_working = True\n",
    "    for n in [10]:\n",
    "        A = random_list(n)\n",
    "        algorithm_function(A)\n",
    "    \n",
    "        if  not is_sorted(A):\n",
    "            is_working = False\n",
    "            break\n",
    "    \n",
    "    if is_working:\n",
    "        print(algorithm_function.__name__ + \": FUNZIONA!\")\n",
    "    else:\n",
    "        print(algorithm_function.__name__ + \": NON HA CORETTAMENTE ORDINATO LA LISTA\")\n",
    "            \n",
    "    "
   ]
  },
  {
   "cell_type": "markdown",
   "id": "94c23f8c",
   "metadata": {},
   "source": [
    "### Selection Sort\n",
    "\n",
    "Selection Sort è un basilare algoritmo di ordinamento funzionante per confronti.\n",
    "L'algoritmo consiste nel selezionare l'elemento minimo ad ogni iterazione e posizionarlo all'inzio della porizione lista non ordinata.\n",
    "Possiamo quindi dividere la lista in due sottoliste, rispettivamente: quella già ordinata e quella di valori non ancora ordinati.\n",
    "All'inzio dell'algoritmo la sottolista ordinatà è vuota, mentre quella da ordinare di conseguenza piena.\n",
    "\n",
    "L'algoritmo prende in ingresso la lista A e <ins>ordina sul posto</ins>.\n"
   ]
  },
  {
   "cell_type": "code",
   "execution_count": 130,
   "id": "606de0f7",
   "metadata": {},
   "outputs": [],
   "source": [
    "def selection_sort(A):\n",
    "    n = len(A) # lunghezza della lista\n",
    "\n",
    "    for i in range(n - 1): \n",
    "        # Trova l'indice del minimo elemento nella porzione della lista non ordinata\n",
    "        min_index = i\n",
    "        for j in range(i + 1, n):\n",
    "            if A[j] < A[min_index]:\n",
    "                min_index = j\n",
    "\n",
    "        # Scambia il minimo con il primo elemento non ordinato\n",
    "        A[i], A[min_index] = A[min_index], A[i]"
   ]
  },
  {
   "cell_type": "code",
   "execution_count": 131,
   "id": "e1528f78",
   "metadata": {},
   "outputs": [
    {
     "name": "stdout",
     "output_type": "stream",
     "text": [
      "selection_sort: FUNZIONA!\n"
     ]
    }
   ],
   "source": [
    "# Testiamo l'implementazione del selection sort\n",
    "is_sorting_algorithm(selection_sort)\n"
   ]
  },
  {
   "cell_type": "markdown",
   "id": "c344405c",
   "metadata": {},
   "source": [
    "### Merge Sort\n",
    "\n",
    "Merge Sort è un algiritmo ricorsivo basato su confronti.\n",
    "L'algoritmo funziona partendo da una lista _A[p:r]_ e dividendola in due sottoliste _A[p:q]_ e _A[q+1:r]_ tale che q è il punto di mezzo di _A[p:r]_. Le due sottoliste vengono quindi quindi ordinate ricorsivamente per poi, come ultimo passo, combinare le due sotto liste ordinate _A[p:q]_ e _A[q + 1:r]_\n",
    "in un singolo array ordinato _A[p:r]_\n",
    "\n",
    "Risulta evidente quindi come l'algoritmo segua la strategia del:\n",
    "- Divide\n",
    "- Impera\n",
    "- Combina\n",
    "\n",
    "\n",
    "\n",
    "Invariante di ciclo: <br/>\n",
    "_\"Prima della k-esima iterazione il sottoarray A[p:k-1] è ordinato e contiene i k-p elementi più piccoli dei sottoarray L e R. Inoltre L[i] e R[j] sono rispettivamente gli elementi più piccoli dei loro array non ancora inseriti in A\"_\n",
    "\n",
    "Divenda subito evidente una prima differenza con selection sort: l'algoritmo di Merge Sort ha bisogno di allocare sottoarray ausiliari e quindi richiede memoria addizionale."
   ]
  },
  {
   "cell_type": "code",
   "execution_count": 132,
   "id": "7db373bf",
   "metadata": {},
   "outputs": [],
   "source": [
    "# Funzione di Merge Sort\n",
    "def merge_sort(A):\n",
    "    merge_sort_aux(A, 0, len(A) - 1)\n",
    "\n",
    "# Funzione di supporto per Merge Sort\n",
    "# (Ricorsiva)\n",
    "def merge_sort_aux(A, p, r):\n",
    "    if p < r:\n",
    "        q = (p + r) // 2  # Divisione intera\n",
    "        merge_sort_aux(A, p, q)\n",
    "        merge_sort_aux(A, q + 1, r)\n",
    "        merge(A, p, q, r)\n",
    "\n",
    "def merge(A, p, q, r):\n",
    "    # Calcola le dimensioni delle due sottoliste\n",
    "    n1 = q - p + 1\n",
    "    n2 = r - q\n",
    "\n",
    "    # Creazione due array NumPy inizialmente inizalizzati a 0 \n",
    "    # Sono di tipo float per supportare le sentinelle\n",
    "    L = np.zeros(n1 + 1, dtype=float)\n",
    "    R = np.zeros(n2 + 1, dtype=float)\n",
    "\n",
    "    # Copia dei dati negli array NumPy\n",
    "    L[:n1] = [A[p + i] for i in range(n1)]\n",
    "    R[:n2] = [A[q + 1 + j] for j in range(n2)]\n",
    "\n",
    "    # Sentinelle\n",
    "    L[n1] = np.inf\n",
    "    R[n2] = np.inf\n",
    "\n",
    "    i = j = 0\n",
    "\n",
    "    for k in range(p, r + 1):\n",
    "        if L[i] <= R[j]:\n",
    "            A[k] = L[i]\n",
    "            i += 1 # Incremento l'indice della sottolista di sinistra per preservare l'invariante di ciclo\n",
    "        else:\n",
    "            A[k] = R[j]\n",
    "            j += 1 # Incremento l'indice della sottolista di destra "
   ]
  },
  {
   "cell_type": "code",
   "execution_count": 133,
   "id": "178282b8",
   "metadata": {},
   "outputs": [
    {
     "name": "stdout",
     "output_type": "stream",
     "text": [
      "merge_sort: FUNZIONA!\n"
     ]
    }
   ],
   "source": [
    "# Testiamo l'implementazione del merge sort\n",
    "is_sorting_algorithm(merge_sort)"
   ]
  },
  {
   "cell_type": "markdown",
   "id": "ca9accba",
   "metadata": {},
   "source": [
    "# Prestazioni\n",
    "Appurato che entrambi gli algoritmi funzionano testiamo le prestazioni al crescere delle liste da ordinare "
   ]
  },
  {
   "cell_type": "markdown",
   "id": "346d677a",
   "metadata": {},
   "source": [
    "Funzione per valutare le prestazioni di un algoritmo"
   ]
  },
  {
   "cell_type": "code",
   "execution_count": 134,
   "id": "515e7362",
   "metadata": {},
   "outputs": [],
   "source": [
    "def test_algo(algo_function, maxRange = TEST_MAX_DIMENSION, minRange = 2, step = TEST_STEP):\n",
    "\n",
    "    results = {} # Dizionario per memorizzare i tempi di esecuzione per ogni dimensione di input\n",
    "\n",
    "    for i in range(minRange, maxRange, step):\n",
    "        A = random_list(i)\n",
    "        start = timer()\n",
    "        algo_function(A)\n",
    "        end = timer()\n",
    "        results[i] = end - start \n",
    "\n",
    "    return results"
   ]
  },
  {
   "cell_type": "markdown",
   "id": "8a15637e",
   "metadata": {},
   "source": [
    "Funzione ausiliaria per disegnare il grafico dei tempi di esecuzione di un algoritmo\n",
    "\n",
    "Prende in ingresso il dizionario dei risultati prodotto dalla funzione _test_algo_\n"
   ]
  },
  {
   "cell_type": "code",
   "execution_count": 135,
   "id": "6568d524",
   "metadata": {},
   "outputs": [],
   "source": [
    "def plot_results(results, title, color):\n",
    "\n",
    "    plt.xlabel('Dimensione di input')\n",
    "    plt.ylabel('Tempo di esecuzione (s)')\n",
    "\n",
    "    x = list(results.keys())\n",
    "    y = list(results.values())\n",
    "    plt.title(title)\n",
    "    plt.plot(x, y, color=color, linestyle='solid')\n",
    "\n",
    "\n",
    "    plt.show()"
   ]
  },
  {
   "cell_type": "markdown",
   "id": "4c10faa0",
   "metadata": {},
   "source": [
    "Testiamo l'algoritmo di selection sort"
   ]
  },
  {
   "cell_type": "code",
   "execution_count": 136,
   "id": "9db89186",
   "metadata": {},
   "outputs": [],
   "source": [
    "selection_sort_results = test_algo(selection_sort)\n",
    "plot_results(selection_sort_results, \"Selection Sort\", \"blue\")"
   ]
  },
  {
   "cell_type": "markdown",
   "id": "673deb3c",
   "metadata": {},
   "source": [
    "Risulta quindi evidente che il tempo di esecuzione cresce in modo quadratico al crescere della dimensione della lista da ordianre. La complessità dell'algoritmo, data una distribuzione uniforme di input, è quindi &theta;(n^2)\n",
    "\n",
    "\n"
   ]
  },
  {
   "cell_type": "markdown",
   "id": "f3bc8997",
   "metadata": {},
   "source": [
    "Testiamo l'algoritmo di Merge Sort"
   ]
  },
  {
   "cell_type": "code",
   "execution_count": 1,
   "id": "e0d59ab6",
   "metadata": {},
   "outputs": [
    {
     "ename": "NameError",
     "evalue": "name 'test_algo' is not defined",
     "output_type": "error",
     "traceback": [
      "\u001b[0;31m---------------------------------------------------------------------------\u001b[0m",
      "\u001b[0;31mNameError\u001b[0m                                 Traceback (most recent call last)",
      "Cell \u001b[0;32mIn[1], line 1\u001b[0m\n\u001b[0;32m----> 1\u001b[0m merge_sort_results \u001b[38;5;241m=\u001b[39m \u001b[43mtest_algo\u001b[49m(merge_sort)\n",
      "\u001b[0;31mNameError\u001b[0m: name 'test_algo' is not defined"
     ]
    }
   ],
   "source": [
    "merge_sort_results = test_algo(merge_sort)\n"
   ]
  },
  {
   "cell_type": "code",
   "execution_count": null,
   "id": "28df2deb",
   "metadata": {},
   "outputs": [
    {
     "data": {
      "image/png": "[encoded data removed]",
      "text/plain": [
       "<Figure size 640x480 with 1 Axes>"
      ]
     },
     "metadata": {},
     "output_type": "display_data"
    }
   ],
   "source": [
    "plot_results(merge_sort_results, \"Merge Sort\", \"red\")"
   ]
  },
  {
   "cell_type": "markdown",
   "id": "c8b8388d",
   "metadata": {},
   "source": [
    "È subito chiaro come le prestazioni crescano inferiorimente rispetto al selection sort. Tuttavia risulta difficile leggere il grafico: è noto dal risultato teorico che la complesità asintotica del Merge Sort è n*log(n) mentre la nostra rappresentazione grafica sembra quasi lineare.\n",
    "\n",
    "Sappiamo però che non è così poiché, ce lo dice sempre la teoira e possiamo dimostrarlo, non è possibile sviluppare un algoritmo di ordinamento per confronto che abbia prestazioni asintotiche migliori di n*log(n).\n",
    "\n",
    "\n",
    "Cerchiamo quindi di contestualizzare il grafico.\n",
    "\n",
    "\n",
    "Rappresentiamo due funzioni note che ci possano aiutare nel confornto del risultato:\n",
    "\\begin{gather*}\n",
    "f(n)= w \\cdot n \\cdot log(n)\n",
    "\\\\\n",
    "g(n)= w \\cdot n \n",
    "\\end{gather*}\n",
    "\n",
    "Con w costante.\n",
    "È quindi fondamentale che sia f(x), sia g(x) siano considerate a fronte di una costante che deve essere uguale nelle due funzioni. Ma cosa rappresenta questa costante?\n",
    "W in questo caso è un'approssimazione teorica del tempo in secondi che il calcolatore impiega per eseguire un'operazione elementare.\n",
    "\n",
    "\n",
    "\n",
    "Facendo ancora una volta ricorso alla teoira possiamo stimare w  in questo specifico caso:\n",
    "\n",
    "\\begin{gather*}\n",
    "\n",
    "w = \\frac{\\text{tempo di esecuzione del merge sort}}{\\text{n} \\cdot \\text{log(n)}}  \n",
    "\n",
    "\\end{gather*}\n",
    "\n",
    "Nel mio caso ho ottenuto dai test precedenti che il mio calcolatore ha eseguito il merge sort di una lista di 3 milioni di elementi in circa 24 secondi. Possiamo quindi stimare l'ordine di grandezza di w\n",
    "\n",
    "\\begin{gather*}\n",
    "w = \\frac{\\text{24}}{\\text{3000000} \\cdot \\text{log(3000000)}}=3,7\\cdot 10^{-7}\n",
    "\n",
    "\\end{gather*}\n"
   ]
  },
  {
   "cell_type": "code",
   "execution_count": null,
   "id": "c7ffaea1",
   "metadata": {},
   "outputs": [
    {
     "name": "stdout",
     "output_type": "stream",
     "text": [
      "Tempo di un esecuzione di un'operazione:  5.960628466720127e-07\n"
     ]
    },
    {
     "data": {
      "image/png": "[encoded data removed]",
      "text/plain": [
       "<Figure size 640x480 with 1 Axes>"
      ]
     },
     "metadata": {},
     "output_type": "display_data"
    }
   ],
   "source": [
    "\n",
    "# Numero di operazioni teoriche che il merge sort esegue su un input di dimensione n\n",
    "def merge_sort_theoretical_opertions(n):\n",
    "    return n * math.log(n)\n",
    "\n",
    "\n",
    "# Funzione che stima il tempo di esecuzione di un'operazione nella macchina in uso\n",
    "# facendo ricorso ai risultati empirici del merge sort\n",
    "def calc_operation_time():\n",
    "    keys = merge_sort_results.keys()\n",
    "    N = max(keys)\n",
    "    time = merge_sort_results[N]\n",
    "\n",
    "    return time / merge_sort_theoretical_opertions(N)\n",
    "    \n",
    "\n",
    "# Tempo di esecuzione di un'operazione\n",
    "w = calc_operation_time()\n",
    "\n",
    "print(\"Tempo di un esecuzione di un'operazione: \", w)\n",
    "\n",
    "\n",
    "x = list(merge_sort_results.keys())\n",
    "\n",
    "# f(n) = n * log(n) * w\n",
    "plt.plot(x, [i * np.log(i) * w for i in x], color='green')\n",
    "\n",
    "\n",
    "# g(n) = n * w\n",
    "plt.plot(x, [ i * w for i in x], color='black', linestyle=\"dashed\")\n",
    "\n",
    "# Risultati empirici del merge sort\n",
    "y = list(merge_sort_results.values())\n",
    "plt.plot(x, y, color=\"red\", linestyle='solid')\n",
    "\n",
    "\n",
    "plt.legend([\"f(n) = n * log(n) * w\", \"g(n) = n * w\", \"Merge Sort Empirico\"])\n",
    "plt.xlabel('Dimensione di input')\n",
    "plt.ylabel('Tempo di esecuzione (s)')\n",
    "plt.show()\n",
    "\n"
   ]
  },
  {
   "cell_type": "markdown",
   "id": "021b97fe",
   "metadata": {},
   "source": [
    "Il grafico in verde rappresenta la funzione \n",
    "\\begin{gather*}f(n)= w \\cdot n \\cdot log(n)\\end{gather*}\n",
    "che risulta pressoché sovrapposta al grafico delle prestazioni di Merge Sort sperimentali, ciò ci indica che la scelta fatta di w è coretta.\n",
    "\n",
    "In questo modo risulta più evidente la differenza dei risiultati trovati con la funzione lineare"
   ]
  },
  {
   "cell_type": "markdown",
   "id": "e93ab3eb",
   "metadata": {},
   "source": [
    "### Sovrapponiamo risultati \n",
    "Sovrapponiamo ora i risultati di Selection Sort e Merge Sort che abbiamo trovato.\n",
    "Indipendentemente quindi dalla trattazione del grafico di Merge Sort, è chiaro la sostaziale discrepanza che c'è tra le prestazioni asintotiche dei due algoritmi di ordinamento. \n"
   ]
  },
  {
   "cell_type": "code",
   "execution_count": null,
   "id": "549ffae8",
   "metadata": {},
   "outputs": [
    {
     "data": {
      "image/png": "[encoded data removed]",
      "text/plain": [
       "<Figure size 640x480 with 1 Axes>"
      ]
     },
     "metadata": {},
     "output_type": "display_data"
    }
   ],
   "source": [
    "x1 = list(selection_sort_results.keys())\n",
    "y1 = list(selection_sort_results.values())\n",
    "\n",
    "x2 = list(merge_sort_results.keys())\n",
    "y2 = list(merge_sort_results.values())\n",
    "\n",
    "plt.title(\"Selection Sort vs Merge Sort\")\n",
    "plt.plot(x1, y1, color=\"blue\", label=\"Selection Sort\", linestyle='solid')\n",
    "plt.plot(x2, y2, color=\"red\", label=\"Merge Sort\", linestyle='solid')\n",
    "plt.xlabel('Dimensione di input')\n",
    "plt.ylabel('Tempo di esecuzione (s)')\n",
    "plt.legend()\n",
    "plt.show()"
   ]
  },
  {
   "cell_type": "markdown",
   "id": "83a56582",
   "metadata": {},
   "source": [
    "# Stabilità\n",
    "\n",
    "Verifichiamo se i due algoritmi di ordinamento sono stabili. \n",
    "\n",
    "Def: _Un algoritmo di ordinamento è detto stabile se, quando a seguito di un ordinamento di elementi con chiavi uguali, l'ordine relativo originale di questi elementi viene preservato_\n",
    "\n",
    "Per testare la stabilità dei due algoritmi è necessario fare delle piccole variazione del codice dei due algoritmi\n",
    "affinchè possano supportare non più liste di interi ma liste di tuple.\n",
    "Ogni tupla è composta da una chiave intera e un valore di qualsiasi tipo: (key, value)"
   ]
  },
  {
   "cell_type": "code",
   "execution_count": null,
   "id": "51d35f07",
   "metadata": {},
   "outputs": [],
   "source": [
    "# IMPLEMENTAZIONE DI SELECTION SORT CON SUPPORTO PER LISTE DI TUPLE\n",
    "def tuple_selection_sort(A):\n",
    "    n = len(A) \n",
    "\n",
    "    for i in range(n - 1):\n",
    "        min_index = i\n",
    "        for j in range(i + 1, n):\n",
    "            if A[j][0] < A[min_index][0]: # <--- Modifica per supportare le liste di tuple\n",
    "                min_index = j\n",
    "        A[i], A[min_index] = A[min_index], A[i]\n",
    "\n",
    "\n",
    "\n",
    "# IMPLEMENTAZIONE DI MERGE SORT CON SUPPORTO PER LISTE DI TUPLE\n",
    "\n",
    "def tuple_merge_sort(A):\n",
    "    tuple_merge_sort_aux(A, 0, len(A) - 1)\n",
    "\n",
    "def tuple_merge_sort_aux(A, p, r):\n",
    "    if p < r:\n",
    "        q = (p + r) // 2\n",
    "        tuple_merge_sort_aux(A, p, q)\n",
    "        tuple_merge_sort_aux(A, q + 1, r)\n",
    "        tuple_merge(A, p, q, r)\n",
    "\n",
    "def tuple_merge(A, p, q, r):\n",
    "    n1 = q - p + 1\n",
    "    n2 = r - q\n",
    "\n",
    "    L = np.empty(n1 + 1, dtype=object)  # <--- Modifica per supportare le liste di tuple\n",
    "    R = np.empty(n2 + 1, dtype=object) # <--- Modifica per supportare le liste di tuple\n",
    "\n",
    "    L[:n1] = [A[p + i] for i in range(n1)]\n",
    "    R[:n2] = [A[q + 1 + j] for j in range(n2)]\n",
    "\n",
    "    # Sentinelle\n",
    "    L[n1] = (np.inf, \"\") # <--- Modifica per supportare le liste di tuple\n",
    "    R[n2] = (np.inf, \"\") # <--- Modifica per supportare le liste di tuple\n",
    "\n",
    "    i = j = 0\n",
    "\n",
    "    for k in range(p, r + 1):\n",
    "        if L[i][0] <= R[j][0]:\n",
    "            A[k] = L[i]\n",
    "            i += 1\n",
    "        else:\n",
    "            A[k] = R[j]\n",
    "            j += 1\n"
   ]
  },
  {
   "cell_type": "markdown",
   "id": "fd8474f7",
   "metadata": {},
   "source": [
    "Funzione per verificare se un algoritmo è stabile\n",
    "\n",
    "La funzione si basa su ordinare una lista di tuple (key, index) dove key è la chiave di ogni tupla e può essere duplicata, mentre index l'indice della tupla originale nella lista non ordinata.\n",
    "Una volta ordinata la lista si verifica che tuple con stessa chiave abbiano il valore index crescente \n"
   ]
  },
  {
   "cell_type": "code",
   "execution_count": null,
   "id": "e6460b8c",
   "metadata": {},
   "outputs": [],
   "source": [
    "def is_sorting_algorithm_stable(sort_function, test_array_length=1000):\n",
    "    # Genera una lista di tuple (int, int) con chiavi ripetute\n",
    "    # Il primo elemento della tupla è la chiave, il secondo è l'indice originale nella lista non ordinata\n",
    "    unsorted_list = [(random.randint(0,10), i) for i in range(test_array_length)]\n",
    "    # Ordina la lista con l'algoritmo da testare\n",
    "    sort_function(unsorted_list)\n",
    "    # Verifica della stabilità\n",
    "    for i in range(1, len(unsorted_list)):\n",
    "        #  Trova due valori con stessa chiave e verifica che la loro posizione relativa non sia cambiata nella lista ordinata\n",
    "        if unsorted_list[i - 1][0] == unsorted_list[i][0] and unsorted_list[i - 1][1] > unsorted_list[i][1]:\n",
    "            return False\n",
    "\n",
    "    return True"
   ]
  },
  {
   "cell_type": "markdown",
   "id": "12798efd",
   "metadata": {},
   "source": [
    "Testiamo la stabilità"
   ]
  },
  {
   "cell_type": "code",
   "execution_count": null,
   "id": "e488ba03",
   "metadata": {},
   "outputs": [
    {
     "name": "stdout",
     "output_type": "stream",
     "text": [
      "Selection Sort è stabile? No\n",
      "Merge Sort è stabile? Si\n",
      "Esempio:\n",
      "[(1, 'a'), (1, 'e'), (2, 'd'), (2, 'b'), (2, 'f'), (3, 'd'), (3, 'c')]\n",
      "[(1, 'a'), (1, 'e'), (2, 'b'), (2, 'd'), (2, 'f'), (3, 'c'), (3, 'd')]\n"
     ]
    }
   ],
   "source": [
    "print(\"Selection Sort è stabile?\", \"Si\" if is_sorting_algorithm_stable(tuple_selection_sort)  else \"No\")\n",
    "print(\"Merge Sort è stabile?\", \"Si\" if is_sorting_algorithm_stable(tuple_merge_sort) else \"No\")\n",
    "\n",
    "print(\"Esempio:\")\n",
    "A = [(1, \"a\"), (2, \"b\"), (3, \"c\"), (3, \"d\") , (2, \"d\"), (1, \"e\"), (2, \"f\")]\n",
    "B = A.copy()\n",
    "\n",
    "tuple_selection_sort(B)\n",
    "print(B)\n",
    "\n",
    "C = A.copy()\n",
    "tuple_merge_sort(C)\n",
    "print(C)\n"
   ]
  },
  {
   "cell_type": "markdown",
   "id": "e661f85f",
   "metadata": {},
   "source": [
    "L'esempio ci mostra evidentemente che Merge Sort è stabile ma non si può dire lo stesso di Selection Sort.\n",
    "Se non fosse stato abbastanza convicente a rimarcare il risultato è l'output della nostra funzione ausiliare di test."
   ]
  }
 ],
 "metadata": {
  "kernelspec": {
   "display_name": "Python 3 (ipykernel)",
   "language": "python",
   "name": "python3"
  },
  "language_info": {
   "codemirror_mode": {
    "name": "ipython",
    "version": 3
   },
   "file_extension": ".py",
   "mimetype": "text/x-python",
   "name": "python",
   "nbconvert_exporter": "python",
   "pygments_lexer": "ipython3",
   "version": "3.11.4"
  }
 },
 "nbformat": 4,
 "nbformat_minor": 5
}
